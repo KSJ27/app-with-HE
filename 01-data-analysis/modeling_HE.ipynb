{
 "cells": [
  {
   "cell_type": "code",
   "execution_count": 60,
   "metadata": {
    "id": "K46ydhWK7EhE"
   },
   "outputs": [],
   "source": [
    "# %pip install pi-heaan"
   ]
  },
  {
   "cell_type": "code",
   "execution_count": 1,
   "metadata": {
    "id": "nesSq_gP7kvV"
   },
   "outputs": [],
   "source": [
    "import piheaan as heaan\n",
    "from piheaan.math import sort\n",
    "from piheaan.math import approx # for piheaan math function\n",
    "import math\n",
    "import numpy as np\n",
    "import pandas as pd\n",
    "import os\n",
    "\n",
    "from sklearn.metrics import recall_score, roc_auc_score, accuracy_score\n",
    "import numpy as np\n",
    "from sklearn.metrics import confusion_matrix"
   ]
  },
  {
   "cell_type": "code",
   "execution_count": 2,
   "metadata": {
    "id": "SSYlVGrC7mDG"
   },
   "outputs": [],
   "source": [
    "# set parameter\n",
    "params = heaan.ParameterPreset.FGb\n",
    "context = heaan.make_context(params) # context has paramter information\n",
    "heaan.make_bootstrappable(context) # make parameter bootstrapable"
   ]
  },
  {
   "cell_type": "code",
   "execution_count": 63,
   "metadata": {
    "id": "Zj-EYAEk7nt3"
   },
   "outputs": [],
   "source": [
    "# # create and save keys\n",
    "# key_file_path = \"./keys\"\n",
    "\n",
    "# sk = heaan.SecretKey(context) # create secret key\n",
    "# os.makedirs(key_file_path, mode=0o775, exist_ok=True)\n",
    "# sk.save(key_file_path+\"/secretkey.bin\") # save secret key\n",
    "\n",
    "# key_generator = heaan.KeyGenerator(context, sk) # create public key\n",
    "# key_generator.gen_common_keys()\n",
    "# key_generator.save(key_file_path+\"/\") # save public key"
   ]
  },
  {
   "cell_type": "code",
   "execution_count": 3,
   "metadata": {
    "id": "ruUBKDbl7pIZ"
   },
   "outputs": [],
   "source": [
    "# Load pre-exisisting secret/public key\n",
    "# When a key is created, it can be used again to save a new key without creating a new one\n",
    "key_file_path = \"./keys\"\n",
    "\n",
    "secret_key = heaan.SecretKey(context,key_file_path+\"/secretkey.bin\") # load secret key\n",
    "public_key = heaan.KeyPack(context, key_file_path+\"/\") # load public key\n",
    "public_key.load_enc_key()\n",
    "public_key.load_mult_key()\n",
    "\n",
    "eval = heaan.HomEvaluator(context,public_key) # to load piheaan basic function\n",
    "dec = heaan.Decryptor(context) # for decrypt\n",
    "enc = heaan.Encryptor(context) # for encrypt"
   ]
  },
  {
   "cell_type": "code",
   "execution_count": 5,
   "metadata": {
    "id": "ZeRaJerl7ry-"
   },
   "outputs": [],
   "source": [
    "# log_slots is used for the number of slots per ciphertext\n",
    "# It depends on the parameter used (ParameterPreset)\n",
    "# The number '15' is the value for maximum number of slots,\n",
    "# but you can also use a smaller number (ex. 2, 3, 5, 7 ...)\n",
    "# The actual number of slots in the ciphertext is calculated as below.\n",
    "log_slots = 15\n",
    "num_slots = 2**log_slots"
   ]
  },
  {
   "cell_type": "code",
   "execution_count": 10,
   "metadata": {
    "id": "0YUuZFwH7tSt"
   },
   "outputs": [],
   "source": [
    "import pandas as pd\n",
    "\n",
    "train = pd.read_csv('is_train_data.csv')\n",
    "test = pd.read_csv('is_test_data.csv')"
   ]
  },
  {
   "cell_type": "code",
   "execution_count": 11,
   "metadata": {
    "colab": {
     "base_uri": "https://localhost:8080/"
    },
    "id": "_bnTvv9Z7vcl",
    "outputId": "8826398d-16bd-4197-fc33-48cb4b6626de"
   },
   "outputs": [
    {
     "data": {
      "text/plain": [
       "0    450234\n",
       "1     21481\n",
       "Name: loan_label, dtype: int64"
      ]
     },
     "execution_count": 11,
     "metadata": {},
     "output_type": "execute_result"
    }
   ],
   "source": [
    "train['loan_label'].value_counts()"
   ]
  },
  {
   "cell_type": "code",
   "execution_count": 12,
   "metadata": {
    "colab": {
     "base_uri": "https://localhost:8080/"
    },
    "id": "ouQvhe1q7yEr",
    "outputId": "5928e6d0-3eec-4c96-a584-3b01f899113a"
   },
   "outputs": [
    {
     "data": {
      "text/plain": [
       "0    133445\n",
       "1      1185\n",
       "Name: loan_label, dtype: int64"
      ]
     },
     "execution_count": 12,
     "metadata": {},
     "output_type": "execute_result"
    }
   ],
   "source": [
    "test['loan_label'].value_counts()"
   ]
  },
  {
   "cell_type": "code",
   "execution_count": 13,
   "metadata": {
    "id": "qAB5sXxz72Bj"
   },
   "outputs": [],
   "source": [
    "# loan_label이 0인 데이터에서 무작위로 1000개 샘플 선택\n",
    "train_0 = train[train['loan_label'] == 0].sample(n=1000, random_state=42)\n",
    "\n",
    "# loan_label이 1인 데이터에서 무작위로 1000개 샘플 선택\n",
    "train_1 = train[train['loan_label'] == 1].sample(n=1000, random_state=42)\n",
    "\n",
    "# 선택된 데이터 합치기\n",
    "df = pd.concat([train_0, train_1])"
   ]
  },
  {
   "cell_type": "code",
   "execution_count": 14,
   "metadata": {
    "colab": {
     "base_uri": "https://localhost:8080/",
     "height": 443
    },
    "id": "7ZcKelEo750l",
    "outputId": "74b1acc7-0862-4e13-91c9-7ac820be099e"
   },
   "outputs": [
    {
     "data": {
      "text/html": [
       "<div>\n",
       "<style scoped>\n",
       "    .dataframe tbody tr th:only-of-type {\n",
       "        vertical-align: middle;\n",
       "    }\n",
       "\n",
       "    .dataframe tbody tr th {\n",
       "        vertical-align: top;\n",
       "    }\n",
       "\n",
       "    .dataframe thead th {\n",
       "        text-align: right;\n",
       "    }\n",
       "</style>\n",
       "<table border=\"1\" class=\"dataframe\">\n",
       "  <thead>\n",
       "    <tr style=\"text-align: right;\">\n",
       "      <th></th>\n",
       "      <th>log_inc</th>\n",
       "      <th>log_loan_amnt</th>\n",
       "      <th>int_rate</th>\n",
       "      <th>term</th>\n",
       "      <th>installment</th>\n",
       "      <th>purpose</th>\n",
       "      <th>grade</th>\n",
       "      <th>loan_label</th>\n",
       "      <th>emp_length</th>\n",
       "      <th>home_ownership</th>\n",
       "      <th>dti</th>\n",
       "      <th>last_fico_range_high</th>\n",
       "      <th>last_fico_range_low</th>\n",
       "      <th>total_acc</th>\n",
       "      <th>delinq_2yrs</th>\n",
       "    </tr>\n",
       "  </thead>\n",
       "  <tbody>\n",
       "    <tr>\n",
       "      <th>279940</th>\n",
       "      <td>12.409013</td>\n",
       "      <td>9.677214</td>\n",
       "      <td>0.1612</td>\n",
       "      <td>60</td>\n",
       "      <td>388.90</td>\n",
       "      <td>0</td>\n",
       "      <td>2</td>\n",
       "      <td>0</td>\n",
       "      <td>7</td>\n",
       "      <td>0</td>\n",
       "      <td>30.46</td>\n",
       "      <td>604.0</td>\n",
       "      <td>600.0</td>\n",
       "      <td>35.0</td>\n",
       "      <td>0.0</td>\n",
       "    </tr>\n",
       "    <tr>\n",
       "      <th>338512</th>\n",
       "      <td>11.225243</td>\n",
       "      <td>9.680344</td>\n",
       "      <td>0.1774</td>\n",
       "      <td>60</td>\n",
       "      <td>404.04</td>\n",
       "      <td>0</td>\n",
       "      <td>2</td>\n",
       "      <td>0</td>\n",
       "      <td>4</td>\n",
       "      <td>0</td>\n",
       "      <td>25.12</td>\n",
       "      <td>719.0</td>\n",
       "      <td>715.0</td>\n",
       "      <td>29.0</td>\n",
       "      <td>0.0</td>\n",
       "    </tr>\n",
       "    <tr>\n",
       "      <th>448250</th>\n",
       "      <td>9.372459</td>\n",
       "      <td>9.998798</td>\n",
       "      <td>0.0756</td>\n",
       "      <td>36</td>\n",
       "      <td>684.95</td>\n",
       "      <td>0</td>\n",
       "      <td>0</td>\n",
       "      <td>0</td>\n",
       "      <td>2</td>\n",
       "      <td>0</td>\n",
       "      <td>107.14</td>\n",
       "      <td>759.0</td>\n",
       "      <td>755.0</td>\n",
       "      <td>20.0</td>\n",
       "      <td>0.0</td>\n",
       "    </tr>\n",
       "    <tr>\n",
       "      <th>166655</th>\n",
       "      <td>11.790557</td>\n",
       "      <td>9.903488</td>\n",
       "      <td>0.0819</td>\n",
       "      <td>60</td>\n",
       "      <td>407.35</td>\n",
       "      <td>0</td>\n",
       "      <td>0</td>\n",
       "      <td>0</td>\n",
       "      <td>1</td>\n",
       "      <td>0</td>\n",
       "      <td>5.88</td>\n",
       "      <td>784.0</td>\n",
       "      <td>780.0</td>\n",
       "      <td>11.0</td>\n",
       "      <td>0.0</td>\n",
       "    </tr>\n",
       "    <tr>\n",
       "      <th>170615</th>\n",
       "      <td>11.002100</td>\n",
       "      <td>10.158130</td>\n",
       "      <td>0.1797</td>\n",
       "      <td>60</td>\n",
       "      <td>654.73</td>\n",
       "      <td>0</td>\n",
       "      <td>3</td>\n",
       "      <td>0</td>\n",
       "      <td>7</td>\n",
       "      <td>0</td>\n",
       "      <td>22.02</td>\n",
       "      <td>734.0</td>\n",
       "      <td>730.0</td>\n",
       "      <td>23.0</td>\n",
       "      <td>0.0</td>\n",
       "    </tr>\n",
       "    <tr>\n",
       "      <th>...</th>\n",
       "      <td>...</td>\n",
       "      <td>...</td>\n",
       "      <td>...</td>\n",
       "      <td>...</td>\n",
       "      <td>...</td>\n",
       "      <td>...</td>\n",
       "      <td>...</td>\n",
       "      <td>...</td>\n",
       "      <td>...</td>\n",
       "      <td>...</td>\n",
       "      <td>...</td>\n",
       "      <td>...</td>\n",
       "      <td>...</td>\n",
       "      <td>...</td>\n",
       "      <td>...</td>\n",
       "    </tr>\n",
       "    <tr>\n",
       "      <th>188765</th>\n",
       "      <td>11.695247</td>\n",
       "      <td>9.740969</td>\n",
       "      <td>0.1640</td>\n",
       "      <td>60</td>\n",
       "      <td>417.03</td>\n",
       "      <td>1</td>\n",
       "      <td>2</td>\n",
       "      <td>1</td>\n",
       "      <td>1</td>\n",
       "      <td>0</td>\n",
       "      <td>16.69</td>\n",
       "      <td>514.0</td>\n",
       "      <td>510.0</td>\n",
       "      <td>30.0</td>\n",
       "      <td>0.0</td>\n",
       "    </tr>\n",
       "    <tr>\n",
       "      <th>199744</th>\n",
       "      <td>12.111762</td>\n",
       "      <td>9.825526</td>\n",
       "      <td>0.1033</td>\n",
       "      <td>60</td>\n",
       "      <td>396.09</td>\n",
       "      <td>1</td>\n",
       "      <td>1</td>\n",
       "      <td>1</td>\n",
       "      <td>10</td>\n",
       "      <td>0</td>\n",
       "      <td>12.56</td>\n",
       "      <td>674.0</td>\n",
       "      <td>670.0</td>\n",
       "      <td>57.0</td>\n",
       "      <td>0.0</td>\n",
       "    </tr>\n",
       "    <tr>\n",
       "      <th>116152</th>\n",
       "      <td>10.827746</td>\n",
       "      <td>9.210340</td>\n",
       "      <td>0.1171</td>\n",
       "      <td>36</td>\n",
       "      <td>330.76</td>\n",
       "      <td>3</td>\n",
       "      <td>1</td>\n",
       "      <td>1</td>\n",
       "      <td>0</td>\n",
       "      <td>1</td>\n",
       "      <td>9.69</td>\n",
       "      <td>554.0</td>\n",
       "      <td>550.0</td>\n",
       "      <td>34.0</td>\n",
       "      <td>1.0</td>\n",
       "    </tr>\n",
       "    <tr>\n",
       "      <th>406894</th>\n",
       "      <td>10.463103</td>\n",
       "      <td>8.987197</td>\n",
       "      <td>0.1430</td>\n",
       "      <td>60</td>\n",
       "      <td>187.40</td>\n",
       "      <td>0</td>\n",
       "      <td>2</td>\n",
       "      <td>1</td>\n",
       "      <td>2</td>\n",
       "      <td>1</td>\n",
       "      <td>26.51</td>\n",
       "      <td>739.0</td>\n",
       "      <td>735.0</td>\n",
       "      <td>26.0</td>\n",
       "      <td>0.0</td>\n",
       "    </tr>\n",
       "    <tr>\n",
       "      <th>66270</th>\n",
       "      <td>11.813030</td>\n",
       "      <td>10.126631</td>\n",
       "      <td>0.1298</td>\n",
       "      <td>60</td>\n",
       "      <td>568.58</td>\n",
       "      <td>0</td>\n",
       "      <td>1</td>\n",
       "      <td>1</td>\n",
       "      <td>10</td>\n",
       "      <td>0</td>\n",
       "      <td>10.99</td>\n",
       "      <td>699.0</td>\n",
       "      <td>695.0</td>\n",
       "      <td>38.0</td>\n",
       "      <td>0.0</td>\n",
       "    </tr>\n",
       "  </tbody>\n",
       "</table>\n",
       "<p>2000 rows × 15 columns</p>\n",
       "</div>"
      ],
      "text/plain": [
       "          log_inc  log_loan_amnt  int_rate  term  installment  purpose  grade  \\\n",
       "279940  12.409013       9.677214    0.1612    60       388.90        0      2   \n",
       "338512  11.225243       9.680344    0.1774    60       404.04        0      2   \n",
       "448250   9.372459       9.998798    0.0756    36       684.95        0      0   \n",
       "166655  11.790557       9.903488    0.0819    60       407.35        0      0   \n",
       "170615  11.002100      10.158130    0.1797    60       654.73        0      3   \n",
       "...           ...            ...       ...   ...          ...      ...    ...   \n",
       "188765  11.695247       9.740969    0.1640    60       417.03        1      2   \n",
       "199744  12.111762       9.825526    0.1033    60       396.09        1      1   \n",
       "116152  10.827746       9.210340    0.1171    36       330.76        3      1   \n",
       "406894  10.463103       8.987197    0.1430    60       187.40        0      2   \n",
       "66270   11.813030      10.126631    0.1298    60       568.58        0      1   \n",
       "\n",
       "        loan_label  emp_length  home_ownership     dti  last_fico_range_high  \\\n",
       "279940           0           7               0   30.46                 604.0   \n",
       "338512           0           4               0   25.12                 719.0   \n",
       "448250           0           2               0  107.14                 759.0   \n",
       "166655           0           1               0    5.88                 784.0   \n",
       "170615           0           7               0   22.02                 734.0   \n",
       "...            ...         ...             ...     ...                   ...   \n",
       "188765           1           1               0   16.69                 514.0   \n",
       "199744           1          10               0   12.56                 674.0   \n",
       "116152           1           0               1    9.69                 554.0   \n",
       "406894           1           2               1   26.51                 739.0   \n",
       "66270            1          10               0   10.99                 699.0   \n",
       "\n",
       "        last_fico_range_low  total_acc  delinq_2yrs  \n",
       "279940                600.0       35.0          0.0  \n",
       "338512                715.0       29.0          0.0  \n",
       "448250                755.0       20.0          0.0  \n",
       "166655                780.0       11.0          0.0  \n",
       "170615                730.0       23.0          0.0  \n",
       "...                     ...        ...          ...  \n",
       "188765                510.0       30.0          0.0  \n",
       "199744                670.0       57.0          0.0  \n",
       "116152                550.0       34.0          1.0  \n",
       "406894                735.0       26.0          0.0  \n",
       "66270                 695.0       38.0          0.0  \n",
       "\n",
       "[2000 rows x 15 columns]"
      ]
     },
     "execution_count": 14,
     "metadata": {},
     "output_type": "execute_result"
    }
   ],
   "source": [
    "df"
   ]
  },
  {
   "cell_type": "code",
   "execution_count": 15,
   "metadata": {
    "id": "hG-VjxnS7-Rp"
   },
   "outputs": [],
   "source": [
    "def normalize_data(arr):\n",
    "    S = 0\n",
    "    for i in range(len(arr)):\n",
    "        S += arr[i]\n",
    "    return [arr[i] / S for i in range(len(arr))]"
   ]
  },
  {
   "cell_type": "code",
   "execution_count": 17,
   "metadata": {
    "id": "UgEQCZeo7_-r"
   },
   "outputs": [],
   "source": [
    "# preprocessing data\n",
    "# convert only on columns that are not 0 ~ 1 to values 0 ~ 1\n",
    "train_n = df.shape[0]\n",
    "\n",
    "X = [0] * 14\n",
    "X[0] = normalize_data(df['log_inc'].values)\n",
    "X[1] = normalize_data(df['log_loan_amnt'].values)\n",
    "X[2] = normalize_data(df['int_rate'].values)\n",
    "X[3] = list(df['purpose'].values)\n",
    "X[4] = list(df['grade'].values)\n",
    "X[5] = normalize_data(df['emp_length'].values)\n",
    "X[6] = normalize_data(df['dti'].values)\n",
    "X[7] = normalize_data(df['last_fico_range_high'].values)\n",
    "X[8] = normalize_data(df['last_fico_range_low'].values)\n",
    "X[9] = normalize_data(df['home_ownership'].values)\n",
    "X[10] = normalize_data(df['total_acc'].values)\n",
    "X[11] = list(df['delinq_2yrs'].values)\n",
    "X[12] = normalize_data(df['term'].values)\n",
    "X[13] = normalize_data(df['installment'].values)\n",
    "\n",
    "Y = list(df['loan_label'].values)"
   ]
  },
  {
   "cell_type": "code",
   "execution_count": 18,
   "metadata": {
    "colab": {
     "base_uri": "https://localhost:8080/"
    },
    "id": "Z6d2WJFd9UC-",
    "outputId": "6038ee48-4494-4faa-b092-7412756de06e"
   },
   "outputs": [
    {
     "name": "stdout",
     "output_type": "stream",
     "text": [
      "2000\n"
     ]
    }
   ],
   "source": [
    "print(train_n)"
   ]
  },
  {
   "cell_type": "code",
   "execution_count": null,
   "metadata": {},
   "outputs": [],
   "source": [
    "# 데이터 분할 및 암호화\n",
    "# X 데이터를 log_slots를 기반으로 여러 부분으로 나눔\n",
    "# 각 데이터 부분을 별도로 암호화\n",
    "num_slots = 2**log_slots  # 슬롯의 총 개수 계산\n",
    "num_parts = (train_n + num_slots - 1) // num_slots  # 필요한 부분의 수 계산\n",
    "\n",
    "for part in range(num_parts):\n",
    "    start_idx = part * num_slots\n",
    "    end_idx = min((part + 1) * num_slots, train_n)\n",
    "\n",
    "    msg_X = heaan.Message(log_slots)\n",
    "    ctxt_X = heaan.Ciphertext(context)\n",
    "\n",
    "    for idx in range(start_idx, end_idx):\n",
    "        # X의 해당 요소를 복소수 형태로 변환하여 할당\n",
    "        msg_X[idx - start_idx] = X[idx // train_n][idx % train_n]\n",
    "\n",
    "    enc.encrypt(msg_X, public_key, ctxt_X)\n",
    "#     ctxt_X.save(key_file_path + f\"/ctxt_X_part_{part}.bin\")\n"
   ]
  },
  {
   "cell_type": "code",
   "execution_count": 20,
   "metadata": {
    "id": "oYUbGs149WS2"
   },
   "outputs": [],
   "source": [
    "num_parts_y = (len(Y) + num_slots - 1) // num_slots  # 필요한 부분의 수 계산\n",
    "\n",
    "for part in range(num_parts_y):\n",
    "    start_idx = part * num_slots\n",
    "    end_idx = min((part + 1) * num_slots, len(Y))\n",
    "\n",
    "    msg_Y = heaan.Message(log_slots)\n",
    "    ctxt_Y = heaan.Ciphertext(context)\n",
    "\n",
    "    for idx in range(start_idx, end_idx):\n",
    "        # Y의 해당 요소를 복소수 형태로 변환하여 할당\n",
    "        msg_Y[idx - start_idx] = Y[idx]\n",
    "    enc.encrypt(msg_Y, public_key, ctxt_Y)\n",
    "#     ctxt_Y.save(key_file_path + f\"/ctxt_Y_part_{part}.bin\")"
   ]
  },
  {
   "cell_type": "code",
   "execution_count": 77,
   "metadata": {
    "colab": {
     "base_uri": "https://localhost:8080/"
    },
    "id": "OegJRGlwBfs-",
    "outputId": "dad5f0da-d340-4286-ee83-8fcf0426a9ea"
   },
   "outputs": [
    {
     "data": {
      "text/plain": [
       "[(level: 12, log(num slots): 15, data: [ (0.000553+0.000000j), (0.000500+0.000000j), (0.000418+0.000000j), (0.000526+0.000000j), (0.000490+0.000000j), ..., (0.000000+0.000000j), (0.000000+0.000000j), (0.000000+0.000000j), (0.000000+0.000000j), (0.000000+0.000000j) ])]"
      ]
     },
     "execution_count": 77,
     "metadata": {},
     "output_type": "execute_result"
    }
   ],
   "source": [
    "# ctxt_X_parts"
   ]
  },
  {
   "cell_type": "code",
   "execution_count": 78,
   "metadata": {
    "colab": {
     "base_uri": "https://localhost:8080/"
    },
    "id": "BgMwBawOBibb",
    "outputId": "e031168c-042d-4500-c1cb-98ba052b6a4b"
   },
   "outputs": [
    {
     "data": {
      "text/plain": [
       "[(level: 12, log(num slots): 15, data: [ (0.000000+0.000000j), (0.000000+0.000000j), (0.000000+0.000000j), (0.000000+0.000000j), (0.000000+0.000000j), ..., (0.000000+0.000000j), (0.000000+0.000000j), (0.000000+0.000000j), (0.000000+0.000000j), (0.000000+0.000000j) ])]"
      ]
     },
     "execution_count": 78,
     "metadata": {},
     "output_type": "execute_result"
    }
   ],
   "source": [
    "# ctxt_Y_parts"
   ]
  },
  {
   "cell_type": "code",
   "execution_count": 22,
   "metadata": {
    "colab": {
     "base_uri": "https://localhost:8080/"
    },
    "id": "C3Q9uAe39Xv3",
    "outputId": "6292ed51-00b9-477b-872c-00038c8219e0"
   },
   "outputs": [
    {
     "name": "stdout",
     "output_type": "stream",
     "text": [
      "beta :  [-0.21015197  0.76136137  0.58101882  0.82158062  0.96089553  0.64234132\n",
      " -0.80838403  0.71629563  0.65529596 -0.07197904 -0.18064009  0.88150466\n",
      " -0.69015922  0.11770393  0.26879135]\n",
      "\n",
      "msg_beta :  [ (0.761361+0.000000j), (0.761361+0.000000j), (0.761361+0.000000j), (0.761361+0.000000j), (0.761361+0.000000j), ..., (0.000000+0.000000j), (0.000000+0.000000j), (0.000000+0.000000j), (0.000000+0.000000j), (0.000000+0.000000j) ]\n"
     ]
    }
   ],
   "source": [
    "# initial value beta\n",
    "beta = 2 * np.random.rand(15) - 1\n",
    "print(\"beta : \", beta)\n",
    "print()\n",
    "msg_beta = heaan.Message(log_slots)\n",
    "ctxt_beta = heaan.Ciphertext(context)\n",
    "\n",
    "for i in range(14):\n",
    "    for j in range(train_n):\n",
    "        msg_beta[train_n*i + j] = beta[i+1]\n",
    "for j in range(train_n):\n",
    "    msg_beta[14*train_n + j] = beta[0]\n",
    "\n",
    "enc.encrypt(msg_beta, public_key, ctxt_beta)\n",
    "print(\"msg_beta : \", msg_beta)"
   ]
  },
  {
   "cell_type": "code",
   "execution_count": 23,
   "metadata": {
    "id": "FiGfNSDd9iTm"
   },
   "outputs": [],
   "source": [
    "def step(learning_rate, ctxt_X, ctxt_Y, ctxt_beta, n, log_slots, context, eval):\n",
    "    '''\n",
    "    ctxt_X, ctxt_Y : data for training\n",
    "    ctxt_beta : initial value beta\n",
    "    n : the number of row in train_data\n",
    "    '''\n",
    "    ctxt_rot = heaan.Ciphertext(context)\n",
    "    ctxt_tmp = heaan.Ciphertext(context)\n",
    "\n",
    "    ## step1\n",
    "    # beta0\n",
    "    ctxt_beta0 = heaan.Ciphertext(context)\n",
    "    eval.left_rotate(ctxt_beta, 14*n, ctxt_beta0)\n",
    "\n",
    "    # compute  ctxt_tmp = beta1*x1 + beta2*x2 + ... + beta12*x12 + beta0\n",
    "    ctxt_tmp = heaan.Ciphertext(context)\n",
    "    eval.mult(ctxt_beta, ctxt_X, ctxt_tmp)\n",
    "\n",
    "    for i in range(3):\n",
    "        eval.left_rotate(ctxt_tmp, n*2**(2-i), ctxt_rot)\n",
    "        eval.add(ctxt_tmp, ctxt_rot, ctxt_tmp)\n",
    "    eval.add(ctxt_tmp, ctxt_beta0, ctxt_tmp)\n",
    "\n",
    "    msg_mask = heaan.Message(log_slots)\n",
    "    for i in range(n):\n",
    "        msg_mask[i] = 1\n",
    "    eval.mult(ctxt_tmp, msg_mask, ctxt_tmp)\n",
    "\n",
    "\n",
    "\n",
    "    ## step2\n",
    "    # compute sigmoid\n",
    "    approx.sigmoid(eval, ctxt_tmp, ctxt_tmp, 8.0)\n",
    "    eval.bootstrap(ctxt_tmp, ctxt_tmp)\n",
    "    msg_mask = heaan.Message(log_slots)\n",
    "    # if sigmoid(0) -> return 0.5\n",
    "    for i in range(n, num_slots):\n",
    "        msg_mask[i] = 0.5\n",
    "    eval.sub(ctxt_tmp, msg_mask, ctxt_tmp)\n",
    "\n",
    "    ## step3\n",
    "    # compute  (learning_rate/n) * (y_(j) - p_(j))\n",
    "    ctxt_d = heaan.Ciphertext(context)\n",
    "    eval.sub(ctxt_Y, ctxt_tmp, ctxt_d)\n",
    "    eval.mult(ctxt_d, learning_rate / n, ctxt_d)\n",
    "\n",
    "    eval.right_rotate(ctxt_d, 14*n, ctxt_tmp) # for beta0\n",
    "    for i in range(3):\n",
    "        eval.right_rotate(ctxt_d, n * 2**i, ctxt_rot)\n",
    "        eval.add(ctxt_d, ctxt_rot, ctxt_d)\n",
    "    eval.add(ctxt_d, ctxt_tmp, ctxt_d)\n",
    "\n",
    "    ## step4\n",
    "    # compute  (learning_rate/n) * (y_(j) - p_(j)) * x_(j)\n",
    "    ctxt_X_j = heaan.Ciphertext(context)\n",
    "    msg_X0 = heaan.Message(log_slots)\n",
    "    for i in range(14*n, 15*n):\n",
    "        msg_X0[i] = 1\n",
    "    eval.add(ctxt_X, msg_X0, ctxt_X_j)\n",
    "    eval.mult(ctxt_X_j, ctxt_d, ctxt_d)\n",
    "\n",
    "    ## step5\n",
    "    # compute  Sum_(all j) (learning_rate/n) * (y_(j) - p_(j)) * x_(j)\n",
    "    for i in range(14):\n",
    "        eval.left_rotate(ctxt_d, 2**(13-i), ctxt_rot)\n",
    "        eval.add(ctxt_d, ctxt_rot, ctxt_d)\n",
    "    msg_mask = heaan.Message(log_slots)\n",
    "\n",
    "    for i in range(14):\n",
    "        msg_mask[i * n] = 1\n",
    "    eval.mult(ctxt_d, msg_mask, ctxt_d)\n",
    "\n",
    "    for i in range(14):\n",
    "        eval.right_rotate(ctxt_d, 2**i, ctxt_rot)\n",
    "        eval.add(ctxt_d, ctxt_rot, ctxt_d)\n",
    "\n",
    "    ## step6\n",
    "    # update beta\n",
    "    eval.add(ctxt_beta, ctxt_d, ctxt_d)\n",
    "    return ctxt_d"
   ]
  },
  {
   "cell_type": "code",
   "execution_count": 24,
   "metadata": {
    "colab": {
     "base_uri": "https://localhost:8080/"
    },
    "id": "01mr9-2C9tva",
    "outputId": "9723112e-87c7-4556-ed04-9604f72b55af"
   },
   "outputs": [
    {
     "name": "stdout",
     "output_type": "stream",
     "text": [
      "=== Step 0 ===\n",
      "(level: 9, log(num slots): 15, data: [ (0.800604+0.000000j), (0.800604+0.000000j), (0.800604+0.000000j), (0.800604+0.000000j), (0.800604+0.000000j), ..., (0.039245+0.000000j), (0.039245+0.000000j), (0.039245+0.000000j), (0.039245+0.000000j), (0.039245+0.000000j) ])\n",
      "=== Step 1 ===\n",
      "(level: 9, log(num slots): 15, data: [ (0.830091+0.000000j), (0.830091+0.000000j), (0.830091+0.000000j), (0.830091+0.000000j), (0.830091+0.000000j), ..., (0.068734+0.000000j), (0.068734+0.000000j), (0.068734+0.000000j), (0.068734+0.000000j), (0.068734+0.000000j) ])\n",
      "=== Step 2 ===\n",
      "(level: 9, log(num slots): 15, data: [ (0.852346+0.000000j), (0.852346+0.000000j), (0.852346+0.000000j), (0.852346+0.000000j), (0.852346+0.000000j), ..., (0.090991+0.000000j), (0.090991+0.000000j), (0.090991+0.000000j), (0.090991+0.000000j), (0.090991+0.000000j) ])\n",
      "=== Step 3 ===\n",
      "(level: 9, log(num slots): 15, data: [ (0.869254+0.000000j), (0.869254+0.000000j), (0.869254+0.000000j), (0.869254+0.000000j), (0.869254+0.000000j), ..., (0.107901+0.000000j), (0.107901+0.000000j), (0.107901+0.000000j), (0.107901+0.000000j), (0.107901+0.000000j) ])\n",
      "=== Step 4 ===\n",
      "(level: 9, log(num slots): 15, data: [ (0.882215+0.000000j), (0.882215+0.000000j), (0.882215+0.000000j), (0.882215+0.000000j), (0.882215+0.000000j), ..., (0.120864+0.000000j), (0.120864+0.000000j), (0.120864+0.000000j), (0.120864+0.000000j), (0.120864+0.000000j) ])\n",
      "=== Step 5 ===\n",
      "(level: 9, log(num slots): 15, data: [ (0.892264+0.000000j), (0.892264+0.000000j), (0.892264+0.000000j), (0.892264+0.000000j), (0.892264+0.000000j), ..., (0.130915+0.000000j), (0.130915+0.000000j), (0.130915+0.000000j), (0.130915+0.000000j), (0.130915+0.000000j) ])\n",
      "=== Step 6 ===\n",
      "(level: 9, log(num slots): 15, data: [ (0.900166+0.000000j), (0.900166+0.000000j), (0.900166+0.000000j), (0.900166+0.000000j), (0.900166+0.000000j), ..., (0.138818+0.000000j), (0.138818+0.000000j), (0.138818+0.000000j), (0.138818+0.000000j), (0.138818+0.000000j) ])\n",
      "=== Step 7 ===\n",
      "(level: 9, log(num slots): 15, data: [ (0.906482+0.000000j), (0.906482+0.000000j), (0.906482+0.000000j), (0.906482+0.000000j), (0.906482+0.000000j), ..., (0.145137+0.000000j), (0.145137+0.000000j), (0.145137+0.000000j), (0.145137+0.000000j), (0.145137+0.000000j) ])\n",
      "=== Step 8 ===\n",
      "(level: 9, log(num slots): 15, data: [ (0.911629+0.000000j), (0.911629+0.000000j), (0.911629+0.000000j), (0.911629+0.000000j), (0.911629+0.000000j), ..., (0.150285+0.000000j), (0.150285+0.000000j), (0.150285+0.000000j), (0.150285+0.000000j), (0.150285+0.000000j) ])\n",
      "=== Step 9 ===\n",
      "(level: 9, log(num slots): 15, data: [ (0.915912+0.000000j), (0.915912+0.000000j), (0.915912+0.000000j), (0.915912+0.000000j), (0.915912+0.000000j), ..., (0.154570+0.000000j), (0.154570+0.000000j), (0.154570+0.000000j), (0.154570+0.000000j), (0.154570+0.000000j) ])\n",
      "=== Step 10 ===\n",
      "(level: 9, log(num slots): 15, data: [ (0.919555+0.000000j), (0.919555+0.000000j), (0.919555+0.000000j), (0.919555+0.000000j), (0.919555+0.000000j), ..., (0.158215+0.000000j), (0.158215+0.000000j), (0.158215+0.000000j), (0.158215+0.000000j), (0.158215+0.000000j) ])\n",
      "=== Step 11 ===\n",
      "(level: 9, log(num slots): 15, data: [ (0.922725+0.000000j), (0.922725+0.000000j), (0.922725+0.000000j), (0.922725+0.000000j), (0.922725+0.000000j), ..., (0.161387+0.000000j), (0.161387+0.000000j), (0.161387+0.000000j), (0.161387+0.000000j), (0.161387+0.000000j) ])\n",
      "=== Step 12 ===\n",
      "(level: 9, log(num slots): 15, data: [ (0.925543+0.000000j), (0.925543+0.000000j), (0.925543+0.000000j), (0.925543+0.000000j), (0.925543+0.000000j), ..., (0.164207+0.000000j), (0.164207+0.000000j), (0.164207+0.000000j), (0.164207+0.000000j), (0.164207+0.000000j) ])\n",
      "=== Step 13 ===\n",
      "(level: 9, log(num slots): 15, data: [ (0.928098+0.000000j), (0.928098+0.000000j), (0.928098+0.000000j), (0.928098+0.000000j), (0.928098+0.000000j), ..., (0.166765+0.000000j), (0.166765+0.000000j), (0.166765+0.000000j), (0.166765+0.000000j), (0.166765+0.000000j) ])\n",
      "=== Step 14 ===\n",
      "(level: 9, log(num slots): 15, data: [ (0.930458+0.000000j), (0.930458+0.000000j), (0.930458+0.000000j), (0.930458+0.000000j), (0.930458+0.000000j), ..., (0.169127+0.000000j), (0.169127+0.000000j), (0.169127+0.000000j), (0.169127+0.000000j), (0.169127+0.000000j) ])\n",
      "=== Step 15 ===\n",
      "(level: 9, log(num slots): 15, data: [ (0.932671+0.000000j), (0.932671+0.000000j), (0.932671+0.000000j), (0.932671+0.000000j), (0.932671+0.000000j), ..., (0.171341+0.000000j), (0.171341+0.000000j), (0.171341+0.000000j), (0.171341+0.000000j), (0.171341+0.000000j) ])\n",
      "=== Step 16 ===\n",
      "(level: 9, log(num slots): 15, data: [ (0.934772+0.000000j), (0.934772+0.000000j), (0.934772+0.000000j), (0.934772+0.000000j), (0.934772+0.000000j), ..., (0.173444+0.000000j), (0.173444+0.000000j), (0.173444+0.000000j), (0.173444+0.000000j), (0.173444+0.000000j) ])\n",
      "=== Step 17 ===\n",
      "(level: 9, log(num slots): 15, data: [ (0.936788+0.000000j), (0.936788+0.000000j), (0.936788+0.000000j), (0.936788+0.000000j), (0.936788+0.000000j), ..., (0.175462+0.000000j), (0.175462+0.000000j), (0.175462+0.000000j), (0.175462+0.000000j), (0.175462+0.000000j) ])\n",
      "=== Step 18 ===\n",
      "(level: 9, log(num slots): 15, data: [ (0.938739+0.000000j), (0.938739+0.000000j), (0.938739+0.000000j), (0.938739+0.000000j), (0.938739+0.000000j), ..., (0.177414+0.000000j), (0.177414+0.000000j), (0.177414+0.000000j), (0.177414+0.000000j), (0.177414+0.000000j) ])\n",
      "=== Step 19 ===\n",
      "(level: 9, log(num slots): 15, data: [ (0.940637+0.000000j), (0.940637+0.000000j), (0.940637+0.000000j), (0.940637+0.000000j), (0.940637+0.000000j), ..., (0.179315+0.000000j), (0.179315+0.000000j), (0.179315+0.000000j), (0.179315+0.000000j), (0.179315+0.000000j) ])\n",
      "=== Step 20 ===\n",
      "(level: 9, log(num slots): 15, data: [ (0.942495+0.000000j), (0.942495+0.000000j), (0.942495+0.000000j), (0.942495+0.000000j), (0.942495+0.000000j), ..., (0.181175+0.000000j), (0.181175+0.000000j), (0.181175+0.000000j), (0.181175+0.000000j), (0.181175+0.000000j) ])\n",
      "=== Step 21 ===\n",
      "(level: 9, log(num slots): 15, data: [ (0.944320+0.000000j), (0.944320+0.000000j), (0.944320+0.000000j), (0.944320+0.000000j), (0.944320+0.000000j), ..., (0.183001+0.000000j), (0.183001+0.000000j), (0.183001+0.000000j), (0.183001+0.000000j), (0.183001+0.000000j) ])\n",
      "=== Step 22 ===\n",
      "(level: 9, log(num slots): 15, data: [ (0.946117+0.000000j), (0.946117+0.000000j), (0.946117+0.000000j), (0.946117+0.000000j), (0.946117+0.000000j), ..., (0.184800+0.000000j), (0.184800+0.000000j), (0.184800+0.000000j), (0.184800+0.000000j), (0.184800+0.000000j) ])\n",
      "=== Step 23 ===\n",
      "(level: 9, log(num slots): 15, data: [ (0.947891+0.000000j), (0.947891+0.000000j), (0.947891+0.000000j), (0.947891+0.000000j), (0.947891+0.000000j), ..., (0.186576+0.000000j), (0.186576+0.000000j), (0.186576+0.000000j), (0.186576+0.000000j), (0.186576+0.000000j) ])\n",
      "=== Step 24 ===\n",
      "(level: 9, log(num slots): 15, data: [ (0.949645+0.000000j), (0.949645+0.000000j), (0.949645+0.000000j), (0.949645+0.000000j), (0.949645+0.000000j), ..., (0.188331+0.000000j), (0.188331+0.000000j), (0.188331+0.000000j), (0.188331+0.000000j), (0.188331+0.000000j) ])\n",
      "=== Step 25 ===\n",
      "(level: 9, log(num slots): 15, data: [ (0.951381+0.000000j), (0.951381+0.000000j), (0.951381+0.000000j), (0.951381+0.000000j), (0.951381+0.000000j), ..., (0.190069+0.000000j), (0.190069+0.000000j), (0.190069+0.000000j), (0.190069+0.000000j), (0.190069+0.000000j) ])\n",
      "=== Step 26 ===\n",
      "(level: 9, log(num slots): 15, data: [ (0.953100+0.000000j), (0.953100+0.000000j), (0.953100+0.000000j), (0.953100+0.000000j), (0.953100+0.000000j), ..., (0.191791+0.000000j), (0.191791+0.000000j), (0.191791+0.000000j), (0.191791+0.000000j), (0.191791+0.000000j) ])\n",
      "=== Step 27 ===\n",
      "(level: 9, log(num slots): 15, data: [ (0.954805+0.000000j), (0.954805+0.000000j), (0.954805+0.000000j), (0.954805+0.000000j), (0.954805+0.000000j), ..., (0.193498+0.000000j), (0.193498+0.000000j), (0.193498+0.000000j), (0.193498+0.000000j), (0.193498+0.000000j) ])\n",
      "=== Step 28 ===\n",
      "(level: 9, log(num slots): 15, data: [ (0.956496+0.000000j), (0.956496+0.000000j), (0.956496+0.000000j), (0.956496+0.000000j), (0.956496+0.000000j), ..., (0.195190+0.000000j), (0.195190+0.000000j), (0.195190+0.000000j), (0.195190+0.000000j), (0.195190+0.000000j) ])\n",
      "=== Step 29 ===\n",
      "(level: 9, log(num slots): 15, data: [ (0.958174+0.000000j), (0.958174+0.000000j), (0.958174+0.000000j), (0.958174+0.000000j), (0.958174+0.000000j), ..., (0.196870+0.000000j), (0.196870+0.000000j), (0.196870+0.000000j), (0.196870+0.000000j), (0.196870+0.000000j) ])\n",
      "=== Step 30 ===\n"
     ]
    },
    {
     "name": "stdout",
     "output_type": "stream",
     "text": [
      "(level: 9, log(num slots): 15, data: [ (0.959839+0.000000j), (0.959839+0.000000j), (0.959839+0.000000j), (0.959839+0.000000j), (0.959839+0.000000j), ..., (0.198537+0.000000j), (0.198537+0.000000j), (0.198537+0.000000j), (0.198537+0.000000j), (0.198537+0.000000j) ])\n",
      "=== Step 31 ===\n",
      "(level: 9, log(num slots): 15, data: [ (0.961492+0.000000j), (0.961492+0.000000j), (0.961492+0.000000j), (0.961492+0.000000j), (0.961492+0.000000j), ..., (0.200191+0.000000j), (0.200191+0.000000j), (0.200191+0.000000j), (0.200191+0.000000j), (0.200191+0.000000j) ])\n",
      "=== Step 32 ===\n",
      "(level: 9, log(num slots): 15, data: [ (0.963133+0.000000j), (0.963133+0.000000j), (0.963133+0.000000j), (0.963133+0.000000j), (0.963133+0.000000j), ..., (0.201834+0.000000j), (0.201834+0.000000j), (0.201834+0.000000j), (0.201834+0.000000j), (0.201834+0.000000j) ])\n",
      "=== Step 33 ===\n",
      "(level: 9, log(num slots): 15, data: [ (0.964762+0.000000j), (0.964762+0.000000j), (0.964762+0.000000j), (0.964762+0.000000j), (0.964762+0.000000j), ..., (0.203464+0.000000j), (0.203464+0.000000j), (0.203464+0.000000j), (0.203464+0.000000j), (0.203464+0.000000j) ])\n",
      "=== Step 34 ===\n",
      "(level: 9, log(num slots): 15, data: [ (0.966379+0.000000j), (0.966379+0.000000j), (0.966379+0.000000j), (0.966379+0.000000j), (0.966379+0.000000j), ..., (0.205084+0.000000j), (0.205084+0.000000j), (0.205084+0.000000j), (0.205084+0.000000j), (0.205084+0.000000j) ])\n",
      "=== Step 35 ===\n",
      "(level: 9, log(num slots): 15, data: [ (0.967985+0.000000j), (0.967985+0.000000j), (0.967985+0.000000j), (0.967985+0.000000j), (0.967985+0.000000j), ..., (0.206691+0.000000j), (0.206691+0.000000j), (0.206691+0.000000j), (0.206691+0.000000j), (0.206691+0.000000j) ])\n",
      "=== Step 36 ===\n",
      "(level: 9, log(num slots): 15, data: [ (0.969580+0.000000j), (0.969580+0.000000j), (0.969580+0.000000j), (0.969580+0.000000j), (0.969580+0.000000j), ..., (0.208288+0.000000j), (0.208288+0.000000j), (0.208288+0.000000j), (0.208288+0.000000j), (0.208288+0.000000j) ])\n",
      "=== Step 37 ===\n",
      "(level: 9, log(num slots): 15, data: [ (0.971163+0.000000j), (0.971163+0.000000j), (0.971163+0.000000j), (0.971163+0.000000j), (0.971163+0.000000j), ..., (0.209873+0.000000j), (0.209873+0.000000j), (0.209873+0.000000j), (0.209873+0.000000j), (0.209873+0.000000j) ])\n",
      "=== Step 38 ===\n",
      "(level: 9, log(num slots): 15, data: [ (0.972736+0.000000j), (0.972736+0.000000j), (0.972736+0.000000j), (0.972736+0.000000j), (0.972736+0.000000j), ..., (0.211447+0.000000j), (0.211447+0.000000j), (0.211447+0.000000j), (0.211447+0.000000j), (0.211447+0.000000j) ])\n",
      "=== Step 39 ===\n",
      "(level: 9, log(num slots): 15, data: [ (0.974297+0.000000j), (0.974297+0.000000j), (0.974297+0.000000j), (0.974297+0.000000j), (0.974297+0.000000j), ..., (0.213010+0.000000j), (0.213010+0.000000j), (0.213010+0.000000j), (0.213010+0.000000j), (0.213010+0.000000j) ])\n",
      "=== Step 40 ===\n",
      "(level: 9, log(num slots): 15, data: [ (0.975847+0.000000j), (0.975847+0.000000j), (0.975847+0.000000j), (0.975847+0.000000j), (0.975847+0.000000j), ..., (0.214562+0.000000j), (0.214562+0.000000j), (0.214562+0.000000j), (0.214562+0.000000j), (0.214562+0.000000j) ])\n",
      "=== Step 41 ===\n",
      "(level: 9, log(num slots): 15, data: [ (0.977387+0.000000j), (0.977387+0.000000j), (0.977387+0.000000j), (0.977387+0.000000j), (0.977387+0.000000j), ..., (0.216103+0.000000j), (0.216103+0.000000j), (0.216103+0.000000j), (0.216103+0.000000j), (0.216103+0.000000j) ])\n",
      "=== Step 42 ===\n",
      "(level: 9, log(num slots): 15, data: [ (0.978916+0.000000j), (0.978916+0.000000j), (0.978916+0.000000j), (0.978916+0.000000j), (0.978916+0.000000j), ..., (0.217633+0.000000j), (0.217633+0.000000j), (0.217633+0.000000j), (0.217633+0.000000j), (0.217633+0.000000j) ])\n",
      "=== Step 43 ===\n",
      "(level: 9, log(num slots): 15, data: [ (0.980433+0.000000j), (0.980433+0.000000j), (0.980433+0.000000j), (0.980433+0.000000j), (0.980433+0.000000j), ..., (0.219153+0.000000j), (0.219153+0.000000j), (0.219153+0.000000j), (0.219153+0.000000j), (0.219153+0.000000j) ])\n",
      "=== Step 44 ===\n",
      "(level: 9, log(num slots): 15, data: [ (0.981941+0.000000j), (0.981941+0.000000j), (0.981941+0.000000j), (0.981941+0.000000j), (0.981941+0.000000j), ..., (0.220662+0.000000j), (0.220662+0.000000j), (0.220662+0.000000j), (0.220662+0.000000j), (0.220662+0.000000j) ])\n",
      "=== Step 45 ===\n",
      "(level: 9, log(num slots): 15, data: [ (0.983437+0.000000j), (0.983437+0.000000j), (0.983437+0.000000j), (0.983437+0.000000j), (0.983437+0.000000j), ..., (0.222160+0.000000j), (0.222160+0.000000j), (0.222160+0.000000j), (0.222160+0.000000j), (0.222160+0.000000j) ])\n",
      "=== Step 46 ===\n",
      "(level: 9, log(num slots): 15, data: [ (0.984923+0.000000j), (0.984923+0.000000j), (0.984923+0.000000j), (0.984923+0.000000j), (0.984923+0.000000j), ..., (0.223648+0.000000j), (0.223648+0.000000j), (0.223648+0.000000j), (0.223648+0.000000j), (0.223648+0.000000j) ])\n",
      "=== Step 47 ===\n",
      "(level: 9, log(num slots): 15, data: [ (0.986398+0.000000j), (0.986398+0.000000j), (0.986398+0.000000j), (0.986398+0.000000j), (0.986398+0.000000j), ..., (0.225125+0.000000j), (0.225125+0.000000j), (0.225125+0.000000j), (0.225125+0.000000j), (0.225125+0.000000j) ])\n",
      "=== Step 48 ===\n",
      "(level: 9, log(num slots): 15, data: [ (0.987863+0.000000j), (0.987863+0.000000j), (0.987863+0.000000j), (0.987863+0.000000j), (0.987863+0.000000j), ..., (0.226591+0.000000j), (0.226591+0.000000j), (0.226591+0.000000j), (0.226591+0.000000j), (0.226591+0.000000j) ])\n",
      "=== Step 49 ===\n",
      "(level: 9, log(num slots): 15, data: [ (0.989318+0.000000j), (0.989318+0.000000j), (0.989318+0.000000j), (0.989318+0.000000j), (0.989318+0.000000j), ..., (0.228047+0.000000j), (0.228047+0.000000j), (0.228047+0.000000j), (0.228047+0.000000j), (0.228047+0.000000j) ])\n",
      "=== Step 50 ===\n",
      "(level: 9, log(num slots): 15, data: [ (0.990762+0.000000j), (0.990762+0.000000j), (0.990762+0.000000j), (0.990762+0.000000j), (0.990762+0.000000j), ..., (0.229493+0.000000j), (0.229493+0.000000j), (0.229493+0.000000j), (0.229493+0.000000j), (0.229493+0.000000j) ])\n",
      "=== Step 51 ===\n",
      "(level: 9, log(num slots): 15, data: [ (0.992196+0.000000j), (0.992196+0.000000j), (0.992196+0.000000j), (0.992196+0.000000j), (0.992196+0.000000j), ..., (0.230928+0.000000j), (0.230928+0.000000j), (0.230928+0.000000j), (0.230928+0.000000j), (0.230928+0.000000j) ])\n",
      "=== Step 52 ===\n",
      "(level: 9, log(num slots): 15, data: [ (0.993619+0.000000j), (0.993619+0.000000j), (0.993619+0.000000j), (0.993619+0.000000j), (0.993619+0.000000j), ..., (0.232353+0.000000j), (0.232353+0.000000j), (0.232353+0.000000j), (0.232353+0.000000j), (0.232353+0.000000j) ])\n",
      "=== Step 53 ===\n",
      "(level: 9, log(num slots): 15, data: [ (0.995033+0.000000j), (0.995033+0.000000j), (0.995033+0.000000j), (0.995033+0.000000j), (0.995033+0.000000j), ..., (0.233768+0.000000j), (0.233768+0.000000j), (0.233768+0.000000j), (0.233768+0.000000j), (0.233768+0.000000j) ])\n",
      "=== Step 54 ===\n",
      "(level: 9, log(num slots): 15, data: [ (0.996436+0.000000j), (0.996436+0.000000j), (0.996436+0.000000j), (0.996436+0.000000j), (0.996436+0.000000j), ..., (0.235173+0.000000j), (0.235173+0.000000j), (0.235173+0.000000j), (0.235173+0.000000j), (0.235173+0.000000j) ])\n",
      "=== Step 55 ===\n",
      "(level: 9, log(num slots): 15, data: [ (0.997829+0.000000j), (0.997829+0.000000j), (0.997829+0.000000j), (0.997829+0.000000j), (0.997829+0.000000j), ..., (0.236568+0.000000j), (0.236568+0.000000j), (0.236568+0.000000j), (0.236568+0.000000j), (0.236568+0.000000j) ])\n",
      "=== Step 56 ===\n",
      "(level: 9, log(num slots): 15, data: [ (0.999212+0.000000j), (0.999212+0.000000j), (0.999212+0.000000j), (0.999212+0.000000j), (0.999212+0.000000j), ..., (0.237952+0.000000j), (0.237952+0.000000j), (0.237952+0.000000j), (0.237952+0.000000j), (0.237952+0.000000j) ])\n",
      "=== Step 57 ===\n",
      "(level: 9, log(num slots): 15, data: [ (1.000585+0.000000j), (1.000585+0.000000j), (1.000585+0.000000j), (1.000585+0.000000j), (1.000585+0.000000j), ..., (0.239327+0.000000j), (0.239327+0.000000j), (0.239327+0.000000j), (0.239327+0.000000j), (0.239327+0.000000j) ])\n",
      "=== Step 58 ===\n",
      "(level: 9, log(num slots): 15, data: [ (1.001949+0.000000j), (1.001949+0.000000j), (1.001949+0.000000j), (1.001949+0.000000j), (1.001949+0.000000j), ..., (0.240692+0.000000j), (0.240692+0.000000j), (0.240692+0.000000j), (0.240692+0.000000j), (0.240692+0.000000j) ])\n",
      "=== Step 59 ===\n",
      "(level: 9, log(num slots): 15, data: [ (1.003302+0.000000j), (1.003302+0.000000j), (1.003302+0.000000j), (1.003302+0.000000j), (1.003302+0.000000j), ..., (0.242047+0.000000j), (0.242047+0.000000j), (0.242047+0.000000j), (0.242047+0.000000j), (0.242047+0.000000j) ])\n",
      "=== Step 60 ===\n",
      "(level: 9, log(num slots): 15, data: [ (1.004646+0.000000j), (1.004646+0.000000j), (1.004646+0.000000j), (1.004646+0.000000j), (1.004646+0.000000j), ..., (0.243392+0.000000j), (0.243392+0.000000j), (0.243392+0.000000j), (0.243392+0.000000j), (0.243392+0.000000j) ])\n",
      "=== Step 61 ===\n"
     ]
    },
    {
     "name": "stdout",
     "output_type": "stream",
     "text": [
      "(level: 9, log(num slots): 15, data: [ (1.005980+0.000000j), (1.005980+0.000000j), (1.005980+0.000000j), (1.005980+0.000000j), (1.005980+0.000000j), ..., (0.244727+0.000000j), (0.244727+0.000000j), (0.244727+0.000000j), (0.244727+0.000000j), (0.244727+0.000000j) ])\n",
      "=== Step 62 ===\n",
      "(level: 9, log(num slots): 15, data: [ (1.007304+0.000000j), (1.007304+0.000000j), (1.007304+0.000000j), (1.007304+0.000000j), (1.007304+0.000000j), ..., (0.246053+0.000000j), (0.246053+0.000000j), (0.246053+0.000000j), (0.246053+0.000000j), (0.246053+0.000000j) ])\n",
      "=== Step 63 ===\n",
      "(level: 9, log(num slots): 15, data: [ (1.008619+0.000000j), (1.008619+0.000000j), (1.008619+0.000000j), (1.008619+0.000000j), (1.008619+0.000000j), ..., (0.247369+0.000000j), (0.247369+0.000000j), (0.247369+0.000000j), (0.247369+0.000000j), (0.247369+0.000000j) ])\n",
      "=== Step 64 ===\n",
      "(level: 9, log(num slots): 15, data: [ (1.009924+0.000000j), (1.009924+0.000000j), (1.009924+0.000000j), (1.009924+0.000000j), (1.009924+0.000000j), ..., (0.248676+0.000000j), (0.248676+0.000000j), (0.248676+0.000000j), (0.248676+0.000000j), (0.248676+0.000000j) ])\n",
      "=== Step 65 ===\n",
      "(level: 9, log(num slots): 15, data: [ (1.011220+0.000000j), (1.011220+0.000000j), (1.011220+0.000000j), (1.011220+0.000000j), (1.011220+0.000000j), ..., (0.249973+0.000000j), (0.249973+0.000000j), (0.249973+0.000000j), (0.249973+0.000000j), (0.249973+0.000000j) ])\n",
      "=== Step 66 ===\n",
      "(level: 9, log(num slots): 15, data: [ (1.012506+0.000000j), (1.012506+0.000000j), (1.012506+0.000000j), (1.012506+0.000000j), (1.012506+0.000000j), ..., (0.251261+0.000000j), (0.251261+0.000000j), (0.251261+0.000000j), (0.251261+0.000000j), (0.251261+0.000000j) ])\n",
      "=== Step 67 ===\n",
      "(level: 9, log(num slots): 15, data: [ (1.013783+0.000000j), (1.013783+0.000000j), (1.013783+0.000000j), (1.013783+0.000000j), (1.013783+0.000000j), ..., (0.252539+0.000000j), (0.252539+0.000000j), (0.252539+0.000000j), (0.252539+0.000000j), (0.252539+0.000000j) ])\n",
      "=== Step 68 ===\n",
      "(level: 9, log(num slots): 15, data: [ (1.015051+0.000000j), (1.015051+0.000000j), (1.015051+0.000000j), (1.015051+0.000000j), (1.015051+0.000000j), ..., (0.253808+0.000000j), (0.253808+0.000000j), (0.253808+0.000000j), (0.253808+0.000000j), (0.253808+0.000000j) ])\n",
      "=== Step 69 ===\n",
      "(level: 9, log(num slots): 15, data: [ (1.016309+0.000000j), (1.016309+0.000000j), (1.016309+0.000000j), (1.016309+0.000000j), (1.016309+0.000000j), ..., (0.255068+0.000000j), (0.255068+0.000000j), (0.255068+0.000000j), (0.255068+0.000000j), (0.255068+0.000000j) ])\n",
      "=== Step 70 ===\n",
      "(level: 9, log(num slots): 15, data: [ (1.017558+0.000000j), (1.017558+0.000000j), (1.017558+0.000000j), (1.017558+0.000000j), (1.017558+0.000000j), ..., (0.256319+0.000000j), (0.256319+0.000000j), (0.256319+0.000000j), (0.256319+0.000000j), (0.256319+0.000000j) ])\n",
      "=== Step 71 ===\n",
      "(level: 9, log(num slots): 15, data: [ (1.018799+0.000000j), (1.018799+0.000000j), (1.018799+0.000000j), (1.018799+0.000000j), (1.018799+0.000000j), ..., (0.257561+0.000000j), (0.257561+0.000000j), (0.257561+0.000000j), (0.257561+0.000000j), (0.257561+0.000000j) ])\n",
      "=== Step 72 ===\n",
      "(level: 9, log(num slots): 15, data: [ (1.020030+0.000000j), (1.020030+0.000000j), (1.020030+0.000000j), (1.020030+0.000000j), (1.020030+0.000000j), ..., (0.258793+0.000000j), (0.258793+0.000000j), (0.258793+0.000000j), (0.258793+0.000000j), (0.258793+0.000000j) ])\n",
      "=== Step 73 ===\n",
      "(level: 9, log(num slots): 15, data: [ (1.021252+0.000000j), (1.021252+0.000000j), (1.021252+0.000000j), (1.021252+0.000000j), (1.021252+0.000000j), ..., (0.260017+0.000000j), (0.260017+0.000000j), (0.260017+0.000000j), (0.260017+0.000000j), (0.260017+0.000000j) ])\n",
      "=== Step 74 ===\n",
      "(level: 9, log(num slots): 15, data: [ (1.022465+0.000000j), (1.022465+0.000000j), (1.022465+0.000000j), (1.022465+0.000000j), (1.022465+0.000000j), ..., (0.261232+0.000000j), (0.261232+0.000000j), (0.261232+0.000000j), (0.261232+0.000000j), (0.261232+0.000000j) ])\n",
      "=== Step 75 ===\n",
      "(level: 9, log(num slots): 15, data: [ (1.023670+0.000000j), (1.023670+0.000000j), (1.023670+0.000000j), (1.023670+0.000000j), (1.023670+0.000000j), ..., (0.262438+0.000000j), (0.262438+0.000000j), (0.262438+0.000000j), (0.262438+0.000000j), (0.262438+0.000000j) ])\n",
      "=== Step 76 ===\n",
      "(level: 9, log(num slots): 15, data: [ (1.024866+0.000000j), (1.024866+0.000000j), (1.024866+0.000000j), (1.024866+0.000000j), (1.024866+0.000000j), ..., (0.263635+0.000000j), (0.263635+0.000000j), (0.263635+0.000000j), (0.263635+0.000000j), (0.263635+0.000000j) ])\n",
      "=== Step 77 ===\n",
      "(level: 9, log(num slots): 15, data: [ (1.026053+0.000000j), (1.026053+0.000000j), (1.026053+0.000000j), (1.026053+0.000000j), (1.026053+0.000000j), ..., (0.264823+0.000000j), (0.264823+0.000000j), (0.264823+0.000000j), (0.264823+0.000000j), (0.264823+0.000000j) ])\n",
      "=== Step 78 ===\n",
      "(level: 9, log(num slots): 15, data: [ (1.027231+0.000000j), (1.027231+0.000000j), (1.027231+0.000000j), (1.027231+0.000000j), (1.027231+0.000000j), ..., (0.266003+0.000000j), (0.266003+0.000000j), (0.266003+0.000000j), (0.266003+0.000000j), (0.266003+0.000000j) ])\n",
      "=== Step 79 ===\n",
      "(level: 9, log(num slots): 15, data: [ (1.028401+0.000000j), (1.028401+0.000000j), (1.028401+0.000000j), (1.028401+0.000000j), (1.028401+0.000000j), ..., (0.267174+0.000000j), (0.267174+0.000000j), (0.267174+0.000000j), (0.267174+0.000000j), (0.267174+0.000000j) ])\n",
      "=== Step 80 ===\n",
      "(level: 9, log(num slots): 15, data: [ (1.029562+0.000000j), (1.029562+0.000000j), (1.029562+0.000000j), (1.029562+0.000000j), (1.029562+0.000000j), ..., (0.268336+0.000000j), (0.268336+0.000000j), (0.268336+0.000000j), (0.268336+0.000000j), (0.268336+0.000000j) ])\n",
      "=== Step 81 ===\n",
      "(level: 9, log(num slots): 15, data: [ (1.030715+0.000000j), (1.030715+0.000000j), (1.030715+0.000000j), (1.030715+0.000000j), (1.030715+0.000000j), ..., (0.269491+0.000000j), (0.269491+0.000000j), (0.269491+0.000000j), (0.269491+0.000000j), (0.269491+0.000000j) ])\n",
      "=== Step 82 ===\n",
      "(level: 9, log(num slots): 15, data: [ (1.031859+0.000000j), (1.031859+0.000000j), (1.031859+0.000000j), (1.031859+0.000000j), (1.031859+0.000000j), ..., (0.270636+0.000000j), (0.270636+0.000000j), (0.270636+0.000000j), (0.270636+0.000000j), (0.270636+0.000000j) ])\n",
      "=== Step 83 ===\n",
      "(level: 9, log(num slots): 15, data: [ (1.032995+0.000000j), (1.032995+0.000000j), (1.032995+0.000000j), (1.032995+0.000000j), (1.032995+0.000000j), ..., (0.271774+0.000000j), (0.271774+0.000000j), (0.271774+0.000000j), (0.271774+0.000000j), (0.271774+0.000000j) ])\n",
      "=== Step 84 ===\n",
      "(level: 9, log(num slots): 15, data: [ (1.034123+0.000000j), (1.034123+0.000000j), (1.034123+0.000000j), (1.034123+0.000000j), (1.034123+0.000000j), ..., (0.272903+0.000000j), (0.272903+0.000000j), (0.272903+0.000000j), (0.272903+0.000000j), (0.272903+0.000000j) ])\n",
      "=== Step 85 ===\n",
      "(level: 9, log(num slots): 15, data: [ (1.035242+0.000000j), (1.035242+0.000000j), (1.035242+0.000000j), (1.035242+0.000000j), (1.035242+0.000000j), ..., (0.274024+0.000000j), (0.274024+0.000000j), (0.274024+0.000000j), (0.274024+0.000000j), (0.274024+0.000000j) ])\n",
      "=== Step 86 ===\n",
      "(level: 9, log(num slots): 15, data: [ (1.036354+0.000000j), (1.036354+0.000000j), (1.036354+0.000000j), (1.036354+0.000000j), (1.036354+0.000000j), ..., (0.275136+0.000000j), (0.275136+0.000000j), (0.275136+0.000000j), (0.275136+0.000000j), (0.275136+0.000000j) ])\n",
      "=== Step 87 ===\n",
      "(level: 9, log(num slots): 15, data: [ (1.037457+0.000000j), (1.037457+0.000000j), (1.037457+0.000000j), (1.037457+0.000000j), (1.037457+0.000000j), ..., (0.276241+0.000000j), (0.276241+0.000000j), (0.276241+0.000000j), (0.276241+0.000000j), (0.276241+0.000000j) ])\n",
      "=== Step 88 ===\n",
      "(level: 9, log(num slots): 15, data: [ (1.038552+0.000000j), (1.038552+0.000000j), (1.038552+0.000000j), (1.038552+0.000000j), (1.038552+0.000000j), ..., (0.277337+0.000000j), (0.277337+0.000000j), (0.277337+0.000000j), (0.277337+0.000000j), (0.277337+0.000000j) ])\n",
      "=== Step 89 ===\n",
      "(level: 9, log(num slots): 15, data: [ (1.039640+0.000000j), (1.039640+0.000000j), (1.039640+0.000000j), (1.039640+0.000000j), (1.039640+0.000000j), ..., (0.278426+0.000000j), (0.278426+0.000000j), (0.278426+0.000000j), (0.278426+0.000000j), (0.278426+0.000000j) ])\n",
      "=== Step 90 ===\n",
      "(level: 9, log(num slots): 15, data: [ (1.040719+0.000000j), (1.040719+0.000000j), (1.040719+0.000000j), (1.040719+0.000000j), (1.040719+0.000000j), ..., (0.279506+0.000000j), (0.279506+0.000000j), (0.279506+0.000000j), (0.279506+0.000000j), (0.279506+0.000000j) ])\n",
      "=== Step 91 ===\n"
     ]
    },
    {
     "name": "stdout",
     "output_type": "stream",
     "text": [
      "(level: 9, log(num slots): 15, data: [ (1.041790+0.000000j), (1.041790+0.000000j), (1.041790+0.000000j), (1.041790+0.000000j), (1.041790+0.000000j), ..., (0.280579+0.000000j), (0.280579+0.000000j), (0.280579+0.000000j), (0.280579+0.000000j), (0.280579+0.000000j) ])\n",
      "=== Step 92 ===\n",
      "(level: 9, log(num slots): 15, data: [ (1.042854+0.000000j), (1.042854+0.000000j), (1.042854+0.000000j), (1.042854+0.000000j), (1.042854+0.000000j), ..., (0.281644+0.000000j), (0.281644+0.000000j), (0.281644+0.000000j), (0.281644+0.000000j), (0.281644+0.000000j) ])\n",
      "=== Step 93 ===\n",
      "(level: 9, log(num slots): 15, data: [ (1.043910+0.000000j), (1.043910+0.000000j), (1.043910+0.000000j), (1.043910+0.000000j), (1.043910+0.000000j), ..., (0.282701+0.000000j), (0.282701+0.000000j), (0.282701+0.000000j), (0.282701+0.000000j), (0.282701+0.000000j) ])\n",
      "=== Step 94 ===\n",
      "(level: 9, log(num slots): 15, data: [ (1.044958+0.000000j), (1.044958+0.000000j), (1.044958+0.000000j), (1.044958+0.000000j), (1.044958+0.000000j), ..., (0.283751+0.000000j), (0.283751+0.000000j), (0.283751+0.000000j), (0.283751+0.000000j), (0.283751+0.000000j) ])\n",
      "=== Step 95 ===\n",
      "(level: 9, log(num slots): 15, data: [ (1.045999+0.000000j), (1.045999+0.000000j), (1.045999+0.000000j), (1.045999+0.000000j), (1.045999+0.000000j), ..., (0.284793+0.000000j), (0.284793+0.000000j), (0.284793+0.000000j), (0.284793+0.000000j), (0.284793+0.000000j) ])\n",
      "=== Step 96 ===\n",
      "(level: 9, log(num slots): 15, data: [ (1.047032+0.000000j), (1.047032+0.000000j), (1.047032+0.000000j), (1.047032+0.000000j), (1.047032+0.000000j), ..., (0.285827+0.000000j), (0.285827+0.000000j), (0.285827+0.000000j), (0.285827+0.000000j), (0.285827+0.000000j) ])\n",
      "=== Step 97 ===\n",
      "(level: 9, log(num slots): 15, data: [ (1.048058+0.000000j), (1.048058+0.000000j), (1.048058+0.000000j), (1.048058+0.000000j), (1.048058+0.000000j), ..., (0.286854+0.000000j), (0.286854+0.000000j), (0.286854+0.000000j), (0.286854+0.000000j), (0.286854+0.000000j) ])\n",
      "=== Step 98 ===\n",
      "(level: 9, log(num slots): 15, data: [ (1.049076+0.000000j), (1.049076+0.000000j), (1.049076+0.000000j), (1.049076+0.000000j), (1.049076+0.000000j), ..., (0.287874+0.000000j), (0.287874+0.000000j), (0.287874+0.000000j), (0.287874+0.000000j), (0.287874+0.000000j) ])\n",
      "=== Step 99 ===\n",
      "(level: 9, log(num slots): 15, data: [ (1.050087+0.000000j), (1.050087+0.000000j), (1.050087+0.000000j), (1.050087+0.000000j), (1.050087+0.000000j), ..., (0.288886+0.000000j), (0.288886+0.000000j), (0.288886+0.000000j), (0.288886+0.000000j), (0.288886+0.000000j) ])\n"
     ]
    }
   ],
   "source": [
    "# randomly assign learning_rate\n",
    "learning_rate = 0.15\n",
    "num_steps = 100\n",
    "\n",
    "ctxt_next = heaan.Ciphertext(context)\n",
    "eval.add(ctxt_beta, 0, ctxt_next)\n",
    "# for i in range(num_steps):\n",
    "#     print(\"=== Step\", i, \"===\")\n",
    "#     # estimate beta_hat using function 'step' for 100 iteration\n",
    "#     ctxt_next = step(0.2, ctxt_X, ctxt_Y, ctxt_next, train_n, log_slots, context, eval)\n",
    "#     print(ctxt_next)\n",
    "\n",
    "for i in range(num_steps):\n",
    "    print(\"=== Step\", i, \"===\")\n",
    "    ctxt_next = step(learning_rate, ctxt_X, ctxt_Y, ctxt_next, train_n, log_slots, context, eval)\n",
    "    print(ctxt_next)\n",
    "    # if (i + 1) % 20 == 0: # 매 20번째 스텝마다 학습률을 조정\n",
    "    #     learning_rate *= 0.95"
   ]
  },
  {
   "cell_type": "code",
   "execution_count": 26,
   "metadata": {
    "id": "zW2c7q-59wPD"
   },
   "outputs": [],
   "source": [
    "# prepare test data for evaluation\n",
    "# convert only on columns that are not 0 ~ 1 to values 0 ~ 1\n",
    "# loan_label이 0인 데이터에서 무작위로 5000개 샘플 선택\n",
    "test_0 = test[test['loan_label'] == 0].sample(n=400, random_state=42)\n",
    "\n",
    "# loan_label이 1인 데이터에서 무작위로 5000개 샘플 선택\n",
    "test_1 = test[test['loan_label'] == 1].sample(n=300, random_state=42)\n",
    "\n",
    "# 선택된 데이터 합치기\n",
    "df = pd.concat([test_0, test_1])\n",
    "# df = pd.DataFrame(csv_test)\n",
    "test_n = df.shape[0]\n",
    "\n",
    "X_test = [0] * 14\n",
    "X_test[0] = normalize_data(df['log_inc'].values)\n",
    "X_test[1] = normalize_data(df['log_loan_amnt'].values)\n",
    "X_test[2] = normalize_data(df['int_rate'].values)\n",
    "X_test[3] = list(df['purpose'].values)\n",
    "X_test[4] = list(df['grade'].values)\n",
    "X_test[5] = normalize_data(df['emp_length'].values)\n",
    "X_test[6] = normalize_data(df['dti'].values)\n",
    "X_test[7] = normalize_data(df['last_fico_range_high'].values)\n",
    "X_test[8] = normalize_data(df['last_fico_range_low'].values)\n",
    "X_test[9] = normalize_data(df['home_ownership'].values)\n",
    "X_test[10] = normalize_data(df['total_acc'].values)\n",
    "X_test[11] = list(df['delinq_2yrs'].values)\n",
    "X_test[12] = normalize_data(df['term'].values)\n",
    "X_test[13] = normalize_data(df['installment'].values)\n",
    "\n",
    "Y_test = list(df['loan_label'].values)\n",
    "\n",
    "msg_X_test = heaan.Message(log_slots)\n",
    "ctxt_X_test = heaan.Ciphertext(context)\n",
    "\n",
    "for i in range(14):\n",
    "    for j in range(test_n):\n",
    "        msg_X_test[test_n*i + j] = X_test[i][j]\n",
    "enc.encrypt(msg_X_test, public_key, ctxt_X_test)"
   ]
  },
  {
   "cell_type": "code",
   "execution_count": 27,
   "metadata": {
    "id": "oLbvYOZG-Dpu"
   },
   "outputs": [],
   "source": [
    "def compute_sigmoid(ctxt_X, ctxt_beta, n, log_slots, eval, context, num_slots):\n",
    "    '''\n",
    "    ctxt_X : data for evaluation\n",
    "    ctxt_beta : estimated beta from function 'step'\n",
    "    n : the number of row in test_data\n",
    "    '''\n",
    "    ctxt_rot = heaan.Ciphertext(context)\n",
    "    ctxt_tmp = heaan.Ciphertext(context)\n",
    "\n",
    "    # beta0\n",
    "    ctxt_beta0 = heaan.Ciphertext(context)\n",
    "    eval.left_rotate(ctxt_beta, 15*n, ctxt_beta0)\n",
    "\n",
    "    # compute x * beta + beta0\n",
    "    ctxt_tmp = heaan.Ciphertext(context)\n",
    "    eval.mult(ctxt_beta, ctxt_X, ctxt_tmp)\n",
    "\n",
    "    for i in range(3):\n",
    "        eval.left_rotate(ctxt_tmp, n*2**(2-i), ctxt_rot)\n",
    "        eval.add(ctxt_tmp, ctxt_rot, ctxt_tmp)\n",
    "    eval.add(ctxt_tmp, ctxt_beta0, ctxt_tmp)\n",
    "\n",
    "    msg_mask = heaan.Message(log_slots)\n",
    "    for i in range(n):\n",
    "        msg_mask[i] = 1\n",
    "    eval.mult(ctxt_tmp, msg_mask, ctxt_tmp)\n",
    "\n",
    "    # compute sigmoid\n",
    "    approx.sigmoid(eval, ctxt_tmp, ctxt_tmp, 8.0)\n",
    "    eval.bootstrap(ctxt_tmp, ctxt_tmp)\n",
    "    msg_mask = heaan.Message(log_slots)\n",
    "    for i in range(n, num_slots):\n",
    "        msg_mask[i] = 0.5\n",
    "    eval.sub(ctxt_tmp, msg_mask, ctxt_tmp)\n",
    "\n",
    "    return ctxt_tmp"
   ]
  },
  {
   "cell_type": "code",
   "execution_count": 28,
   "metadata": {
    "colab": {
     "base_uri": "https://localhost:8080/"
    },
    "id": "8zY3QUMr-F5X",
    "outputId": "a209a963-7517-42f7-8128-6d1634ff6aad"
   },
   "outputs": [
    {
     "name": "stdout",
     "output_type": "stream",
     "text": [
      "Accuracy :  0.5285714285714286\n"
     ]
    }
   ],
   "source": [
    "# accuracy\n",
    "ctxt_infer = compute_sigmoid(ctxt_X_test, ctxt_next, test_n, log_slots, eval, context, num_slots)\n",
    "\n",
    "res = heaan.Message(log_slots)\n",
    "dec.decrypt(ctxt_infer, secret_key, res)\n",
    "cnt = 0\n",
    "for i in range(test_n):\n",
    "    if res[i].real >= 0.6:\n",
    "        if Y_test[i] == 1:\n",
    "            cnt += 1\n",
    "    else:\n",
    "        if Y_test[i] == 0:\n",
    "            cnt += 1\n",
    "print(\"Accuracy : \", cnt / test_n)\n"
   ]
  },
  {
   "cell_type": "code",
   "execution_count": 30,
   "metadata": {
    "colab": {
     "base_uri": "https://localhost:8080/"
    },
    "id": "wLIhSHOCPRbx",
    "outputId": "43f9468f-4c60-4456-dd45-65a21a1ee264"
   },
   "outputs": [
    {
     "name": "stdout",
     "output_type": "stream",
     "text": [
      "[0, 1, 1, 0, 1, 1, 1, 0, 1, 1, 0, 1, 0, 1, 1, 0, 1, 0, 1, 1, 0, 1, 0, 1, 0, 0, 0, 1, 1, 0, 1, 1, 0, 1, 1, 1, 0, 1, 1, 1, 1, 1, 1, 1, 0, 1, 1, 1, 1, 1, 1, 1, 1, 0, 0, 1, 0, 1, 0, 0, 0, 1, 1, 1, 0, 1, 0, 1, 0, 1, 0, 1, 1, 1, 0, 1, 0, 0, 0, 1, 1, 1, 0, 1, 1, 0, 1, 0, 1, 1, 0, 0, 1, 1, 0, 1, 0, 0, 0, 0, 1, 0, 1, 0, 1, 1, 1, 1, 1, 1, 1, 1, 1, 1, 1, 1, 1, 1, 0, 0, 0, 1, 0, 1, 1, 1, 1, 1, 0, 1, 1, 0, 0, 1, 0, 1, 1, 0, 1, 1, 0, 0, 1, 0, 1, 1, 0, 0, 1, 1, 0, 0, 0, 0, 1, 1, 0, 0, 0, 0, 1, 1, 0, 1, 1, 0, 0, 1, 0, 0, 0, 0, 1, 1, 1, 1, 0, 1, 1, 1, 1, 0, 1, 1, 0, 1, 1, 1, 0, 0, 0, 1, 1, 1, 0, 1, 1, 0, 1, 0, 1, 0, 0, 1, 1, 0, 1, 1, 0, 0, 1, 1, 0, 0, 1, 1, 0, 1, 1, 1, 1, 0, 1, 1, 0, 1, 1, 0, 0, 1, 0, 1, 0, 0, 1, 1, 1, 1, 1, 1, 1, 1, 0, 0, 1, 1, 1, 1, 1, 0, 1, 0, 1, 0, 0, 1, 0, 1, 1, 1, 1, 1, 1, 1, 1, 1, 1, 1, 1, 0, 1, 0, 1, 1, 0, 1, 0, 0, 0, 0, 0, 0, 1, 0, 0, 1, 1, 1, 0, 0, 1, 1, 0, 1, 1, 1, 0, 1, 0, 1, 1, 1, 1, 1, 0, 1, 1, 0, 1, 1, 0, 0, 1, 1, 0, 1, 1, 0, 1, 1, 0, 0, 1, 0, 1, 1, 1, 1, 0, 1, 0, 1, 1, 1, 0, 0, 0, 1, 1, 0, 1, 1, 0, 1, 1, 0, 0, 0, 1, 1, 1, 0, 1, 0, 0, 0, 1, 0, 1, 1, 0, 1, 1, 1, 0, 1, 1, 0, 0, 0, 0, 0, 0, 1, 1, 0, 1, 1, 1, 1, 1, 0, 1, 1, 0, 1, 0, 0, 1, 1, 0, 0, 0, 0, 1, 1, 0, 1, 0, 0, 1, 0, 0, 0, 1, 1, 1, 0, 1, 0, 1, 1, 0, 1, 1, 1, 0, 0, 1, 1, 0, 1, 1, 0, 1, 0, 1, 1, 1, 1, 0, 1, 0, 1, 1, 1, 0, 1, 0, 1, 0, 1, 0, 0, 1, 0, 1, 1, 0, 1, 1, 0, 1, 1, 1, 1, 1, 0, 1, 0, 1, 1, 1, 1, 0, 1, 1, 1, 0, 1, 1, 1, 1, 0, 0, 1, 1, 1, 0, 1, 0, 1, 1, 0, 1, 0, 1, 0, 1, 1, 1, 0, 0, 1, 1, 1, 0, 1, 1, 1, 1, 0, 1, 1, 0, 1, 0, 1, 0, 1, 0, 0, 1, 1, 0, 1, 1, 1, 1, 1, 1, 0, 0, 1, 0, 1, 1, 0, 1, 1, 1, 1, 1, 1, 1, 0, 1, 0, 0, 1, 1, 1, 0, 0, 1, 1, 1, 0, 1, 1, 1, 1, 1, 1, 0, 1, 0, 1, 1, 1, 1, 1, 1, 0, 1, 1, 1, 1, 0, 1, 1, 1, 1, 0, 1, 1, 1, 1, 0, 1, 1, 1, 0, 1, 1, 1, 1, 1, 1, 1, 0, 0, 1, 1, 0, 0, 1, 1, 0, 0, 0, 1, 0, 0, 1, 1, 1, 1, 1, 0, 1, 1, 1, 0, 1, 1, 1, 1, 1, 0, 1, 0, 1, 1, 1, 0, 1, 1, 1, 1, 0, 0, 1, 1, 1, 1, 1, 1, 1, 1, 1, 1, 1, 1, 1, 0, 0, 1, 1, 1, 0, 0, 0, 1, 1, 1, 0, 0, 1, 1, 0, 1, 1, 1, 0, 1, 0, 1, 1, 1, 1, 1, 1, 0, 1, 1, 1, 0, 1, 1, 1, 1, 0, 1, 1, 0, 0, 1, 1, 1, 0, 1, 1, 1, 1, 1, 1, 1, 1, 0]\n"
     ]
    }
   ],
   "source": [
    "ctxt_infer = compute_sigmoid(ctxt_X_test, ctxt_next, test_n, log_slots, eval, context, num_slots)\n",
    "\n",
    "res = heaan.Message(log_slots)\n",
    "dec.decrypt(ctxt_infer, secret_key, res)\n",
    "\n",
    "\n",
    "# 예측 라벨을 저장할 리스트\n",
    "y_pred = []\n",
    "\n",
    "# 예측 라벨 계산\n",
    "for i in range(test_n):\n",
    "    if res[i].real > 0.65:\n",
    "        y_pred.append(1)\n",
    "    else:\n",
    "        y_pred.append(0)\n",
    "print(y_pred)\n"
   ]
  },
  {
   "cell_type": "code",
   "execution_count": 31,
   "metadata": {
    "colab": {
     "base_uri": "https://localhost:8080/"
    },
    "id": "BCin4DLh-Koi",
    "outputId": "a919fd4e-cbc1-4276-eecd-18d9c350ec2e"
   },
   "outputs": [
    {
     "name": "stdout",
     "output_type": "stream",
     "text": [
      "Accuracy : 0.5285714285714286\n",
      "Recall Score: 0.6933333333333334\n",
      "G-mean: 0.5299056519796709\n",
      "ROC AUC Score: 0.554\n"
     ]
    }
   ],
   "source": [
    "\n",
    "def calculate_g_mean(y_test, y_pred):\n",
    "    # 혼동 행렬 계산\n",
    "    cm = confusion_matrix(y_test, y_pred)\n",
    "    # True Positive (TP), True Negative (TN), False Positive (FP), False Negative (FN) 추출\n",
    "    TN, FP, FN, TP = cm.ravel()\n",
    "\n",
    "    # 민감도(재현율) 계산\n",
    "    sensitivity_positive = TP / (TP + FN) if (TP + FN) != 0 else 0\n",
    "    sensitivity_negative = TN / (TN + FP) if (TN + FP) != 0 else 0\n",
    "\n",
    "    # G-mean 계산\n",
    "    g_mean = (sensitivity_positive * sensitivity_negative) ** 0.5\n",
    "    return g_mean\n",
    "\n",
    "accuracy = accuracy_score(Y_test, y_pred)\n",
    "# 실제 라벨과 예측 라벨을 기반으로 recall_score 계산\n",
    "recall = recall_score(Y_test, y_pred)\n",
    "g_mean = calculate_g_mean(Y_test, y_pred)\n",
    "# ROC AUC score 계산\n",
    "roc_auc = roc_auc_score(Y_test, [res[i].real for i in range(test_n)])\n",
    "\n",
    "print(f\"Accuracy : {accuracy}\")\n",
    "print(f\"Recall Score: {recall}\")\n",
    "print(f\"G-mean: {g_mean}\")\n",
    "print(f\"ROC AUC Score: {roc_auc}\")\n"
   ]
  },
  {
   "cell_type": "code",
   "execution_count": null,
   "metadata": {},
   "outputs": [],
   "source": [
    "# Save the model\n",
    "ctxt_next.save(\"logistic_HE.bin\")"
   ]
  }
 ],
 "metadata": {
  "colab": {
   "provenance": []
  },
  "kernelspec": {
   "display_name": "Python 3 (ipykernel)",
   "language": "python",
   "name": "python3"
  },
  "language_info": {
   "codemirror_mode": {
    "name": "ipython",
    "version": 3
   },
   "file_extension": ".py",
   "mimetype": "text/x-python",
   "name": "python",
   "nbconvert_exporter": "python",
   "pygments_lexer": "ipython3",
   "version": "3.8.10"
  }
 },
 "nbformat": 4,
 "nbformat_minor": 1
}
